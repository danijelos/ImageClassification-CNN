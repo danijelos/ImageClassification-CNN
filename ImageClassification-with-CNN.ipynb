{
  "nbformat": 4,
  "nbformat_minor": 5,
  "metadata": {
    "kernelspec": {
      "display_name": "Python 3",
      "name": "python3"
    },
    "language_info": {
      "name": "python"
    },
    "colab": {
      "provenance": [],
      "gpuType": "T4"
    },
    "accelerator": "GPU",
    "widgets": {
      "application/vnd.jupyter.widget-state+json": {
        "ccb7f03b146e470ba7ae571b8fd83e7b": {
          "model_module": "@jupyter-widgets/controls",
          "model_name": "HBoxModel",
          "model_module_version": "1.5.0",
          "state": {
            "_dom_classes": [],
            "_model_module": "@jupyter-widgets/controls",
            "_model_module_version": "1.5.0",
            "_model_name": "HBoxModel",
            "_view_count": null,
            "_view_module": "@jupyter-widgets/controls",
            "_view_module_version": "1.5.0",
            "_view_name": "HBoxView",
            "box_style": "",
            "children": [
              "IPY_MODEL_d7ec6fd7559b4d9e97e34756700784b6",
              "IPY_MODEL_010c530a3cdb4141a56c993811174b1f",
              "IPY_MODEL_fe734819683f49b5bdbaaab64470bbde"
            ],
            "layout": "IPY_MODEL_70ec4d1429af4736ae6c2fbb858a11c0"
          }
        },
        "d7ec6fd7559b4d9e97e34756700784b6": {
          "model_module": "@jupyter-widgets/controls",
          "model_name": "HTMLModel",
          "model_module_version": "1.5.0",
          "state": {
            "_dom_classes": [],
            "_model_module": "@jupyter-widgets/controls",
            "_model_module_version": "1.5.0",
            "_model_name": "HTMLModel",
            "_view_count": null,
            "_view_module": "@jupyter-widgets/controls",
            "_view_module_version": "1.5.0",
            "_view_name": "HTMLView",
            "description": "",
            "description_tooltip": null,
            "layout": "IPY_MODEL_bc5fc9baad88453582dc644567b6fe8e",
            "placeholder": "​",
            "style": "IPY_MODEL_6b11f702af6a4ea5976fb402eb64ee35",
            "value": "100%"
          }
        },
        "010c530a3cdb4141a56c993811174b1f": {
          "model_module": "@jupyter-widgets/controls",
          "model_name": "FloatProgressModel",
          "model_module_version": "1.5.0",
          "state": {
            "_dom_classes": [],
            "_model_module": "@jupyter-widgets/controls",
            "_model_module_version": "1.5.0",
            "_model_name": "FloatProgressModel",
            "_view_count": null,
            "_view_module": "@jupyter-widgets/controls",
            "_view_module_version": "1.5.0",
            "_view_name": "ProgressView",
            "bar_style": "success",
            "description": "",
            "description_tooltip": null,
            "layout": "IPY_MODEL_a70bd3b6a5f24e06879da8e43fe7e1e8",
            "max": 20,
            "min": 0,
            "orientation": "horizontal",
            "style": "IPY_MODEL_787d2be571fa4a6e959bc915909af3c8",
            "value": 20
          }
        },
        "fe734819683f49b5bdbaaab64470bbde": {
          "model_module": "@jupyter-widgets/controls",
          "model_name": "HTMLModel",
          "model_module_version": "1.5.0",
          "state": {
            "_dom_classes": [],
            "_model_module": "@jupyter-widgets/controls",
            "_model_module_version": "1.5.0",
            "_model_name": "HTMLModel",
            "_view_count": null,
            "_view_module": "@jupyter-widgets/controls",
            "_view_module_version": "1.5.0",
            "_view_name": "HTMLView",
            "description": "",
            "description_tooltip": null,
            "layout": "IPY_MODEL_45c98b560fc344f0a423b3443e5a48de",
            "placeholder": "​",
            "style": "IPY_MODEL_cc3808f8f33a49aa913d342c471da724",
            "value": " 20/20 [29:09&lt;00:00, 88.23s/it]"
          }
        },
        "70ec4d1429af4736ae6c2fbb858a11c0": {
          "model_module": "@jupyter-widgets/base",
          "model_name": "LayoutModel",
          "model_module_version": "1.2.0",
          "state": {
            "_model_module": "@jupyter-widgets/base",
            "_model_module_version": "1.2.0",
            "_model_name": "LayoutModel",
            "_view_count": null,
            "_view_module": "@jupyter-widgets/base",
            "_view_module_version": "1.2.0",
            "_view_name": "LayoutView",
            "align_content": null,
            "align_items": null,
            "align_self": null,
            "border": null,
            "bottom": null,
            "display": null,
            "flex": null,
            "flex_flow": null,
            "grid_area": null,
            "grid_auto_columns": null,
            "grid_auto_flow": null,
            "grid_auto_rows": null,
            "grid_column": null,
            "grid_gap": null,
            "grid_row": null,
            "grid_template_areas": null,
            "grid_template_columns": null,
            "grid_template_rows": null,
            "height": null,
            "justify_content": null,
            "justify_items": null,
            "left": null,
            "margin": null,
            "max_height": null,
            "max_width": null,
            "min_height": null,
            "min_width": null,
            "object_fit": null,
            "object_position": null,
            "order": null,
            "overflow": null,
            "overflow_x": null,
            "overflow_y": null,
            "padding": null,
            "right": null,
            "top": null,
            "visibility": null,
            "width": null
          }
        },
        "bc5fc9baad88453582dc644567b6fe8e": {
          "model_module": "@jupyter-widgets/base",
          "model_name": "LayoutModel",
          "model_module_version": "1.2.0",
          "state": {
            "_model_module": "@jupyter-widgets/base",
            "_model_module_version": "1.2.0",
            "_model_name": "LayoutModel",
            "_view_count": null,
            "_view_module": "@jupyter-widgets/base",
            "_view_module_version": "1.2.0",
            "_view_name": "LayoutView",
            "align_content": null,
            "align_items": null,
            "align_self": null,
            "border": null,
            "bottom": null,
            "display": null,
            "flex": null,
            "flex_flow": null,
            "grid_area": null,
            "grid_auto_columns": null,
            "grid_auto_flow": null,
            "grid_auto_rows": null,
            "grid_column": null,
            "grid_gap": null,
            "grid_row": null,
            "grid_template_areas": null,
            "grid_template_columns": null,
            "grid_template_rows": null,
            "height": null,
            "justify_content": null,
            "justify_items": null,
            "left": null,
            "margin": null,
            "max_height": null,
            "max_width": null,
            "min_height": null,
            "min_width": null,
            "object_fit": null,
            "object_position": null,
            "order": null,
            "overflow": null,
            "overflow_x": null,
            "overflow_y": null,
            "padding": null,
            "right": null,
            "top": null,
            "visibility": null,
            "width": null
          }
        },
        "6b11f702af6a4ea5976fb402eb64ee35": {
          "model_module": "@jupyter-widgets/controls",
          "model_name": "DescriptionStyleModel",
          "model_module_version": "1.5.0",
          "state": {
            "_model_module": "@jupyter-widgets/controls",
            "_model_module_version": "1.5.0",
            "_model_name": "DescriptionStyleModel",
            "_view_count": null,
            "_view_module": "@jupyter-widgets/base",
            "_view_module_version": "1.2.0",
            "_view_name": "StyleView",
            "description_width": ""
          }
        },
        "a70bd3b6a5f24e06879da8e43fe7e1e8": {
          "model_module": "@jupyter-widgets/base",
          "model_name": "LayoutModel",
          "model_module_version": "1.2.0",
          "state": {
            "_model_module": "@jupyter-widgets/base",
            "_model_module_version": "1.2.0",
            "_model_name": "LayoutModel",
            "_view_count": null,
            "_view_module": "@jupyter-widgets/base",
            "_view_module_version": "1.2.0",
            "_view_name": "LayoutView",
            "align_content": null,
            "align_items": null,
            "align_self": null,
            "border": null,
            "bottom": null,
            "display": null,
            "flex": null,
            "flex_flow": null,
            "grid_area": null,
            "grid_auto_columns": null,
            "grid_auto_flow": null,
            "grid_auto_rows": null,
            "grid_column": null,
            "grid_gap": null,
            "grid_row": null,
            "grid_template_areas": null,
            "grid_template_columns": null,
            "grid_template_rows": null,
            "height": null,
            "justify_content": null,
            "justify_items": null,
            "left": null,
            "margin": null,
            "max_height": null,
            "max_width": null,
            "min_height": null,
            "min_width": null,
            "object_fit": null,
            "object_position": null,
            "order": null,
            "overflow": null,
            "overflow_x": null,
            "overflow_y": null,
            "padding": null,
            "right": null,
            "top": null,
            "visibility": null,
            "width": null
          }
        },
        "787d2be571fa4a6e959bc915909af3c8": {
          "model_module": "@jupyter-widgets/controls",
          "model_name": "ProgressStyleModel",
          "model_module_version": "1.5.0",
          "state": {
            "_model_module": "@jupyter-widgets/controls",
            "_model_module_version": "1.5.0",
            "_model_name": "ProgressStyleModel",
            "_view_count": null,
            "_view_module": "@jupyter-widgets/base",
            "_view_module_version": "1.2.0",
            "_view_name": "StyleView",
            "bar_color": null,
            "description_width": ""
          }
        },
        "45c98b560fc344f0a423b3443e5a48de": {
          "model_module": "@jupyter-widgets/base",
          "model_name": "LayoutModel",
          "model_module_version": "1.2.0",
          "state": {
            "_model_module": "@jupyter-widgets/base",
            "_model_module_version": "1.2.0",
            "_model_name": "LayoutModel",
            "_view_count": null,
            "_view_module": "@jupyter-widgets/base",
            "_view_module_version": "1.2.0",
            "_view_name": "LayoutView",
            "align_content": null,
            "align_items": null,
            "align_self": null,
            "border": null,
            "bottom": null,
            "display": null,
            "flex": null,
            "flex_flow": null,
            "grid_area": null,
            "grid_auto_columns": null,
            "grid_auto_flow": null,
            "grid_auto_rows": null,
            "grid_column": null,
            "grid_gap": null,
            "grid_row": null,
            "grid_template_areas": null,
            "grid_template_columns": null,
            "grid_template_rows": null,
            "height": null,
            "justify_content": null,
            "justify_items": null,
            "left": null,
            "margin": null,
            "max_height": null,
            "max_width": null,
            "min_height": null,
            "min_width": null,
            "object_fit": null,
            "object_position": null,
            "order": null,
            "overflow": null,
            "overflow_x": null,
            "overflow_y": null,
            "padding": null,
            "right": null,
            "top": null,
            "visibility": null,
            "width": null
          }
        },
        "cc3808f8f33a49aa913d342c471da724": {
          "model_module": "@jupyter-widgets/controls",
          "model_name": "DescriptionStyleModel",
          "model_module_version": "1.5.0",
          "state": {
            "_model_module": "@jupyter-widgets/controls",
            "_model_module_version": "1.5.0",
            "_model_name": "DescriptionStyleModel",
            "_view_count": null,
            "_view_module": "@jupyter-widgets/base",
            "_view_module_version": "1.2.0",
            "_view_name": "StyleView",
            "description_width": ""
          }
        },
        "4eac0c02fe7542048f69a1f8c07f3f25": {
          "model_module": "@jupyter-widgets/controls",
          "model_name": "HBoxModel",
          "model_module_version": "1.5.0",
          "state": {
            "_dom_classes": [],
            "_model_module": "@jupyter-widgets/controls",
            "_model_module_version": "1.5.0",
            "_model_name": "HBoxModel",
            "_view_count": null,
            "_view_module": "@jupyter-widgets/controls",
            "_view_module_version": "1.5.0",
            "_view_name": "HBoxView",
            "box_style": "",
            "children": [
              "IPY_MODEL_d425f41db5d84f30a8ad4a73d3dfd808",
              "IPY_MODEL_4348004828094be79431368884f623bf",
              "IPY_MODEL_7fcf5f9f31594aae90148a69e4272118"
            ],
            "layout": "IPY_MODEL_600e810fd6a44f4dbc19d4c66eeb32c1"
          }
        },
        "d425f41db5d84f30a8ad4a73d3dfd808": {
          "model_module": "@jupyter-widgets/controls",
          "model_name": "HTMLModel",
          "model_module_version": "1.5.0",
          "state": {
            "_dom_classes": [],
            "_model_module": "@jupyter-widgets/controls",
            "_model_module_version": "1.5.0",
            "_model_name": "HTMLModel",
            "_view_count": null,
            "_view_module": "@jupyter-widgets/controls",
            "_view_module_version": "1.5.0",
            "_view_name": "HTMLView",
            "description": "",
            "description_tooltip": null,
            "layout": "IPY_MODEL_5211bb7586d7416ba2c2a4681d9fde69",
            "placeholder": "​",
            "style": "IPY_MODEL_2562b16ee4134aa3a56de88f67e5a36e",
            "value": "100%"
          }
        },
        "4348004828094be79431368884f623bf": {
          "model_module": "@jupyter-widgets/controls",
          "model_name": "FloatProgressModel",
          "model_module_version": "1.5.0",
          "state": {
            "_dom_classes": [],
            "_model_module": "@jupyter-widgets/controls",
            "_model_module_version": "1.5.0",
            "_model_name": "FloatProgressModel",
            "_view_count": null,
            "_view_module": "@jupyter-widgets/controls",
            "_view_module_version": "1.5.0",
            "_view_name": "ProgressView",
            "bar_style": "success",
            "description": "",
            "description_tooltip": null,
            "layout": "IPY_MODEL_e8425d8195304ef3a16ab5968cb65cfc",
            "max": 15,
            "min": 0,
            "orientation": "horizontal",
            "style": "IPY_MODEL_aa7a25f6691848e3aaa444cdf596aff3",
            "value": 15
          }
        },
        "7fcf5f9f31594aae90148a69e4272118": {
          "model_module": "@jupyter-widgets/controls",
          "model_name": "HTMLModel",
          "model_module_version": "1.5.0",
          "state": {
            "_dom_classes": [],
            "_model_module": "@jupyter-widgets/controls",
            "_model_module_version": "1.5.0",
            "_model_name": "HTMLModel",
            "_view_count": null,
            "_view_module": "@jupyter-widgets/controls",
            "_view_module_version": "1.5.0",
            "_view_name": "HTMLView",
            "description": "",
            "description_tooltip": null,
            "layout": "IPY_MODEL_263f56f7620c4d269d4d0ea793911faa",
            "placeholder": "​",
            "style": "IPY_MODEL_cba66888ebf3426c8a4d95447fba174d",
            "value": " 15/15 [24:32&lt;00:00, 99.03s/it]"
          }
        },
        "600e810fd6a44f4dbc19d4c66eeb32c1": {
          "model_module": "@jupyter-widgets/base",
          "model_name": "LayoutModel",
          "model_module_version": "1.2.0",
          "state": {
            "_model_module": "@jupyter-widgets/base",
            "_model_module_version": "1.2.0",
            "_model_name": "LayoutModel",
            "_view_count": null,
            "_view_module": "@jupyter-widgets/base",
            "_view_module_version": "1.2.0",
            "_view_name": "LayoutView",
            "align_content": null,
            "align_items": null,
            "align_self": null,
            "border": null,
            "bottom": null,
            "display": null,
            "flex": null,
            "flex_flow": null,
            "grid_area": null,
            "grid_auto_columns": null,
            "grid_auto_flow": null,
            "grid_auto_rows": null,
            "grid_column": null,
            "grid_gap": null,
            "grid_row": null,
            "grid_template_areas": null,
            "grid_template_columns": null,
            "grid_template_rows": null,
            "height": null,
            "justify_content": null,
            "justify_items": null,
            "left": null,
            "margin": null,
            "max_height": null,
            "max_width": null,
            "min_height": null,
            "min_width": null,
            "object_fit": null,
            "object_position": null,
            "order": null,
            "overflow": null,
            "overflow_x": null,
            "overflow_y": null,
            "padding": null,
            "right": null,
            "top": null,
            "visibility": null,
            "width": null
          }
        },
        "5211bb7586d7416ba2c2a4681d9fde69": {
          "model_module": "@jupyter-widgets/base",
          "model_name": "LayoutModel",
          "model_module_version": "1.2.0",
          "state": {
            "_model_module": "@jupyter-widgets/base",
            "_model_module_version": "1.2.0",
            "_model_name": "LayoutModel",
            "_view_count": null,
            "_view_module": "@jupyter-widgets/base",
            "_view_module_version": "1.2.0",
            "_view_name": "LayoutView",
            "align_content": null,
            "align_items": null,
            "align_self": null,
            "border": null,
            "bottom": null,
            "display": null,
            "flex": null,
            "flex_flow": null,
            "grid_area": null,
            "grid_auto_columns": null,
            "grid_auto_flow": null,
            "grid_auto_rows": null,
            "grid_column": null,
            "grid_gap": null,
            "grid_row": null,
            "grid_template_areas": null,
            "grid_template_columns": null,
            "grid_template_rows": null,
            "height": null,
            "justify_content": null,
            "justify_items": null,
            "left": null,
            "margin": null,
            "max_height": null,
            "max_width": null,
            "min_height": null,
            "min_width": null,
            "object_fit": null,
            "object_position": null,
            "order": null,
            "overflow": null,
            "overflow_x": null,
            "overflow_y": null,
            "padding": null,
            "right": null,
            "top": null,
            "visibility": null,
            "width": null
          }
        },
        "2562b16ee4134aa3a56de88f67e5a36e": {
          "model_module": "@jupyter-widgets/controls",
          "model_name": "DescriptionStyleModel",
          "model_module_version": "1.5.0",
          "state": {
            "_model_module": "@jupyter-widgets/controls",
            "_model_module_version": "1.5.0",
            "_model_name": "DescriptionStyleModel",
            "_view_count": null,
            "_view_module": "@jupyter-widgets/base",
            "_view_module_version": "1.2.0",
            "_view_name": "StyleView",
            "description_width": ""
          }
        },
        "e8425d8195304ef3a16ab5968cb65cfc": {
          "model_module": "@jupyter-widgets/base",
          "model_name": "LayoutModel",
          "model_module_version": "1.2.0",
          "state": {
            "_model_module": "@jupyter-widgets/base",
            "_model_module_version": "1.2.0",
            "_model_name": "LayoutModel",
            "_view_count": null,
            "_view_module": "@jupyter-widgets/base",
            "_view_module_version": "1.2.0",
            "_view_name": "LayoutView",
            "align_content": null,
            "align_items": null,
            "align_self": null,
            "border": null,
            "bottom": null,
            "display": null,
            "flex": null,
            "flex_flow": null,
            "grid_area": null,
            "grid_auto_columns": null,
            "grid_auto_flow": null,
            "grid_auto_rows": null,
            "grid_column": null,
            "grid_gap": null,
            "grid_row": null,
            "grid_template_areas": null,
            "grid_template_columns": null,
            "grid_template_rows": null,
            "height": null,
            "justify_content": null,
            "justify_items": null,
            "left": null,
            "margin": null,
            "max_height": null,
            "max_width": null,
            "min_height": null,
            "min_width": null,
            "object_fit": null,
            "object_position": null,
            "order": null,
            "overflow": null,
            "overflow_x": null,
            "overflow_y": null,
            "padding": null,
            "right": null,
            "top": null,
            "visibility": null,
            "width": null
          }
        },
        "aa7a25f6691848e3aaa444cdf596aff3": {
          "model_module": "@jupyter-widgets/controls",
          "model_name": "ProgressStyleModel",
          "model_module_version": "1.5.0",
          "state": {
            "_model_module": "@jupyter-widgets/controls",
            "_model_module_version": "1.5.0",
            "_model_name": "ProgressStyleModel",
            "_view_count": null,
            "_view_module": "@jupyter-widgets/base",
            "_view_module_version": "1.2.0",
            "_view_name": "StyleView",
            "bar_color": null,
            "description_width": ""
          }
        },
        "263f56f7620c4d269d4d0ea793911faa": {
          "model_module": "@jupyter-widgets/base",
          "model_name": "LayoutModel",
          "model_module_version": "1.2.0",
          "state": {
            "_model_module": "@jupyter-widgets/base",
            "_model_module_version": "1.2.0",
            "_model_name": "LayoutModel",
            "_view_count": null,
            "_view_module": "@jupyter-widgets/base",
            "_view_module_version": "1.2.0",
            "_view_name": "LayoutView",
            "align_content": null,
            "align_items": null,
            "align_self": null,
            "border": null,
            "bottom": null,
            "display": null,
            "flex": null,
            "flex_flow": null,
            "grid_area": null,
            "grid_auto_columns": null,
            "grid_auto_flow": null,
            "grid_auto_rows": null,
            "grid_column": null,
            "grid_gap": null,
            "grid_row": null,
            "grid_template_areas": null,
            "grid_template_columns": null,
            "grid_template_rows": null,
            "height": null,
            "justify_content": null,
            "justify_items": null,
            "left": null,
            "margin": null,
            "max_height": null,
            "max_width": null,
            "min_height": null,
            "min_width": null,
            "object_fit": null,
            "object_position": null,
            "order": null,
            "overflow": null,
            "overflow_x": null,
            "overflow_y": null,
            "padding": null,
            "right": null,
            "top": null,
            "visibility": null,
            "width": null
          }
        },
        "cba66888ebf3426c8a4d95447fba174d": {
          "model_module": "@jupyter-widgets/controls",
          "model_name": "DescriptionStyleModel",
          "model_module_version": "1.5.0",
          "state": {
            "_model_module": "@jupyter-widgets/controls",
            "_model_module_version": "1.5.0",
            "_model_name": "DescriptionStyleModel",
            "_view_count": null,
            "_view_module": "@jupyter-widgets/base",
            "_view_module_version": "1.2.0",
            "_view_name": "StyleView",
            "description_width": ""
          }
        },
        "24a8ea58b41d4e0999096a026a67f1be": {
          "model_module": "@jupyter-widgets/controls",
          "model_name": "HBoxModel",
          "model_module_version": "1.5.0",
          "state": {
            "_dom_classes": [],
            "_model_module": "@jupyter-widgets/controls",
            "_model_module_version": "1.5.0",
            "_model_name": "HBoxModel",
            "_view_count": null,
            "_view_module": "@jupyter-widgets/controls",
            "_view_module_version": "1.5.0",
            "_view_name": "HBoxView",
            "box_style": "",
            "children": [
              "IPY_MODEL_8a4bad983ed542debd7fcdd7032bd24a",
              "IPY_MODEL_89619ef0e78b43ab9e5ef7a22b7e7e76",
              "IPY_MODEL_72898f6940a14da7a693f207570e7049"
            ],
            "layout": "IPY_MODEL_db72180e21ee47588e72a9c37b3985f6"
          }
        },
        "8a4bad983ed542debd7fcdd7032bd24a": {
          "model_module": "@jupyter-widgets/controls",
          "model_name": "HTMLModel",
          "model_module_version": "1.5.0",
          "state": {
            "_dom_classes": [],
            "_model_module": "@jupyter-widgets/controls",
            "_model_module_version": "1.5.0",
            "_model_name": "HTMLModel",
            "_view_count": null,
            "_view_module": "@jupyter-widgets/controls",
            "_view_module_version": "1.5.0",
            "_view_name": "HTMLView",
            "description": "",
            "description_tooltip": null,
            "layout": "IPY_MODEL_29aa428d5306459fb6e2a8a8525a0e49",
            "placeholder": "​",
            "style": "IPY_MODEL_c1a4651b2e42414b9d89063587bd268a",
            "value": "100%"
          }
        },
        "89619ef0e78b43ab9e5ef7a22b7e7e76": {
          "model_module": "@jupyter-widgets/controls",
          "model_name": "FloatProgressModel",
          "model_module_version": "1.5.0",
          "state": {
            "_dom_classes": [],
            "_model_module": "@jupyter-widgets/controls",
            "_model_module_version": "1.5.0",
            "_model_name": "FloatProgressModel",
            "_view_count": null,
            "_view_module": "@jupyter-widgets/controls",
            "_view_module_version": "1.5.0",
            "_view_name": "ProgressView",
            "bar_style": "success",
            "description": "",
            "description_tooltip": null,
            "layout": "IPY_MODEL_3b9599f776e14a73b95921510617e645",
            "max": 15,
            "min": 0,
            "orientation": "horizontal",
            "style": "IPY_MODEL_c910f0878c3846849c939abfaf06178c",
            "value": 15
          }
        },
        "72898f6940a14da7a693f207570e7049": {
          "model_module": "@jupyter-widgets/controls",
          "model_name": "HTMLModel",
          "model_module_version": "1.5.0",
          "state": {
            "_dom_classes": [],
            "_model_module": "@jupyter-widgets/controls",
            "_model_module_version": "1.5.0",
            "_model_name": "HTMLModel",
            "_view_count": null,
            "_view_module": "@jupyter-widgets/controls",
            "_view_module_version": "1.5.0",
            "_view_name": "HTMLView",
            "description": "",
            "description_tooltip": null,
            "layout": "IPY_MODEL_c13a20f1ca7e4b0b8229625d06b8b9a7",
            "placeholder": "​",
            "style": "IPY_MODEL_b4011787ca4a43d1b8ea7707961ff90c",
            "value": " 15/15 [20:55&lt;00:00, 82.43s/it]"
          }
        },
        "db72180e21ee47588e72a9c37b3985f6": {
          "model_module": "@jupyter-widgets/base",
          "model_name": "LayoutModel",
          "model_module_version": "1.2.0",
          "state": {
            "_model_module": "@jupyter-widgets/base",
            "_model_module_version": "1.2.0",
            "_model_name": "LayoutModel",
            "_view_count": null,
            "_view_module": "@jupyter-widgets/base",
            "_view_module_version": "1.2.0",
            "_view_name": "LayoutView",
            "align_content": null,
            "align_items": null,
            "align_self": null,
            "border": null,
            "bottom": null,
            "display": null,
            "flex": null,
            "flex_flow": null,
            "grid_area": null,
            "grid_auto_columns": null,
            "grid_auto_flow": null,
            "grid_auto_rows": null,
            "grid_column": null,
            "grid_gap": null,
            "grid_row": null,
            "grid_template_areas": null,
            "grid_template_columns": null,
            "grid_template_rows": null,
            "height": null,
            "justify_content": null,
            "justify_items": null,
            "left": null,
            "margin": null,
            "max_height": null,
            "max_width": null,
            "min_height": null,
            "min_width": null,
            "object_fit": null,
            "object_position": null,
            "order": null,
            "overflow": null,
            "overflow_x": null,
            "overflow_y": null,
            "padding": null,
            "right": null,
            "top": null,
            "visibility": null,
            "width": null
          }
        },
        "29aa428d5306459fb6e2a8a8525a0e49": {
          "model_module": "@jupyter-widgets/base",
          "model_name": "LayoutModel",
          "model_module_version": "1.2.0",
          "state": {
            "_model_module": "@jupyter-widgets/base",
            "_model_module_version": "1.2.0",
            "_model_name": "LayoutModel",
            "_view_count": null,
            "_view_module": "@jupyter-widgets/base",
            "_view_module_version": "1.2.0",
            "_view_name": "LayoutView",
            "align_content": null,
            "align_items": null,
            "align_self": null,
            "border": null,
            "bottom": null,
            "display": null,
            "flex": null,
            "flex_flow": null,
            "grid_area": null,
            "grid_auto_columns": null,
            "grid_auto_flow": null,
            "grid_auto_rows": null,
            "grid_column": null,
            "grid_gap": null,
            "grid_row": null,
            "grid_template_areas": null,
            "grid_template_columns": null,
            "grid_template_rows": null,
            "height": null,
            "justify_content": null,
            "justify_items": null,
            "left": null,
            "margin": null,
            "max_height": null,
            "max_width": null,
            "min_height": null,
            "min_width": null,
            "object_fit": null,
            "object_position": null,
            "order": null,
            "overflow": null,
            "overflow_x": null,
            "overflow_y": null,
            "padding": null,
            "right": null,
            "top": null,
            "visibility": null,
            "width": null
          }
        },
        "c1a4651b2e42414b9d89063587bd268a": {
          "model_module": "@jupyter-widgets/controls",
          "model_name": "DescriptionStyleModel",
          "model_module_version": "1.5.0",
          "state": {
            "_model_module": "@jupyter-widgets/controls",
            "_model_module_version": "1.5.0",
            "_model_name": "DescriptionStyleModel",
            "_view_count": null,
            "_view_module": "@jupyter-widgets/base",
            "_view_module_version": "1.2.0",
            "_view_name": "StyleView",
            "description_width": ""
          }
        },
        "3b9599f776e14a73b95921510617e645": {
          "model_module": "@jupyter-widgets/base",
          "model_name": "LayoutModel",
          "model_module_version": "1.2.0",
          "state": {
            "_model_module": "@jupyter-widgets/base",
            "_model_module_version": "1.2.0",
            "_model_name": "LayoutModel",
            "_view_count": null,
            "_view_module": "@jupyter-widgets/base",
            "_view_module_version": "1.2.0",
            "_view_name": "LayoutView",
            "align_content": null,
            "align_items": null,
            "align_self": null,
            "border": null,
            "bottom": null,
            "display": null,
            "flex": null,
            "flex_flow": null,
            "grid_area": null,
            "grid_auto_columns": null,
            "grid_auto_flow": null,
            "grid_auto_rows": null,
            "grid_column": null,
            "grid_gap": null,
            "grid_row": null,
            "grid_template_areas": null,
            "grid_template_columns": null,
            "grid_template_rows": null,
            "height": null,
            "justify_content": null,
            "justify_items": null,
            "left": null,
            "margin": null,
            "max_height": null,
            "max_width": null,
            "min_height": null,
            "min_width": null,
            "object_fit": null,
            "object_position": null,
            "order": null,
            "overflow": null,
            "overflow_x": null,
            "overflow_y": null,
            "padding": null,
            "right": null,
            "top": null,
            "visibility": null,
            "width": null
          }
        },
        "c910f0878c3846849c939abfaf06178c": {
          "model_module": "@jupyter-widgets/controls",
          "model_name": "ProgressStyleModel",
          "model_module_version": "1.5.0",
          "state": {
            "_model_module": "@jupyter-widgets/controls",
            "_model_module_version": "1.5.0",
            "_model_name": "ProgressStyleModel",
            "_view_count": null,
            "_view_module": "@jupyter-widgets/base",
            "_view_module_version": "1.2.0",
            "_view_name": "StyleView",
            "bar_color": null,
            "description_width": ""
          }
        },
        "c13a20f1ca7e4b0b8229625d06b8b9a7": {
          "model_module": "@jupyter-widgets/base",
          "model_name": "LayoutModel",
          "model_module_version": "1.2.0",
          "state": {
            "_model_module": "@jupyter-widgets/base",
            "_model_module_version": "1.2.0",
            "_model_name": "LayoutModel",
            "_view_count": null,
            "_view_module": "@jupyter-widgets/base",
            "_view_module_version": "1.2.0",
            "_view_name": "LayoutView",
            "align_content": null,
            "align_items": null,
            "align_self": null,
            "border": null,
            "bottom": null,
            "display": null,
            "flex": null,
            "flex_flow": null,
            "grid_area": null,
            "grid_auto_columns": null,
            "grid_auto_flow": null,
            "grid_auto_rows": null,
            "grid_column": null,
            "grid_gap": null,
            "grid_row": null,
            "grid_template_areas": null,
            "grid_template_columns": null,
            "grid_template_rows": null,
            "height": null,
            "justify_content": null,
            "justify_items": null,
            "left": null,
            "margin": null,
            "max_height": null,
            "max_width": null,
            "min_height": null,
            "min_width": null,
            "object_fit": null,
            "object_position": null,
            "order": null,
            "overflow": null,
            "overflow_x": null,
            "overflow_y": null,
            "padding": null,
            "right": null,
            "top": null,
            "visibility": null,
            "width": null
          }
        },
        "b4011787ca4a43d1b8ea7707961ff90c": {
          "model_module": "@jupyter-widgets/controls",
          "model_name": "DescriptionStyleModel",
          "model_module_version": "1.5.0",
          "state": {
            "_model_module": "@jupyter-widgets/controls",
            "_model_module_version": "1.5.0",
            "_model_name": "DescriptionStyleModel",
            "_view_count": null,
            "_view_module": "@jupyter-widgets/base",
            "_view_module_version": "1.2.0",
            "_view_name": "StyleView",
            "description_width": ""
          }
        }
      }
    }
  },
  "cells": [
    {
      "cell_type": "markdown",
      "metadata": {
        "id": "bright-offer"
      },
      "source": [
        "# Exercise 04 Notebook - Convolutional Neural Networks\n",
        "\n",
        "In this exercise we'll implement different convolutional neural networks, that is AlexNet and ResNet18. Further, we'll use a pretrained model and finetune it to further increase the performance.\n",
        "\n",
        "1. Load Data\n",
        "2. Implement AlexNet from Scratch\n",
        "3. Implement pretrained ResNet18\n",
        "4. Implement and finetune a pretrained ResNet18"
      ],
      "id": "bright-offer"
    },
    {
      "cell_type": "markdown",
      "metadata": {
        "id": "assisted-palmer"
      },
      "source": [
        "## 1. Load Data\n",
        "\n",
        "We'll use the Imagenette data set during this exercise. More specifically, we'll use the Imagenette-320 data set. Imagenette is a very small subset of the Imagenet data set which consists of 9469 training samples and 3925 validation examples. Each sample is a 320x320 image, associated with a label from 10 different classes. More information can be found [here](https://github.com/fastai/imagenette)\n",
        "\n",
        "You can download the dataset [here](https://s3.amazonaws.com/fast-ai-imageclas/imagenette2-320.tgz)\n",
        "\n",
        "Labels:</br>\n",
        "0=n01440764='tench',</br>\n",
        "1=n02102040='English springer',</br>\n",
        "2=n02979186='cassette player',</br>\n",
        "3=n03000684='chain saw',</br>\n",
        "4=n03028079='church',</br>\n",
        "5=n03394916='French horn',</br>\n",
        "6=n03417042='garbage truck',</br>\n",
        "7=n03425413='gas pump',</br>\n",
        "8=n03445777='golf ball',</br>\n",
        "9=n03888257='parachute'</br>\n",
        "\n",
        "Task 1: Download the data set and create a *torch.utils.data.Dataset* class for training and validation set, respectively. </br>\n",
        "*Hint1 : You can use PyTorch's [ImageFolder](https://pytorch.org/vision/stable/datasets.html#imagefolder) class to create a torch.utils.data.Dataset*.</br>\n",
        "*Hint2: You need to transform each sample such that each image is of size 224 and each image needs to be a tensor. Use PyTorch's [transforms method](https://pytorch.org/vision/stable/transforms.html#torchvision-transforms)* </br>\n",
        "*Hint3: Enable GPU runtime as follows: Runtime > Change Runtime type > Hardware accelerator > GPU*\n",
        "\n",
        "Task 2: Create a DataLoader object with batch size = 8 for training and valid set, respectively<br>\n",
        "* *Hint: Don't forget to shuffle the DataLoader!* </br>\n",
        "\n",
        "Task 3: Print the shape of one batch (images and labels) and plot one example with image and label"
      ],
      "id": "assisted-palmer"
    },
    {
      "cell_type": "markdown",
      "metadata": {
        "id": "protected-vehicle"
      },
      "source": [
        "### Download and unzip data"
      ],
      "id": "protected-vehicle"
    },
    {
      "cell_type": "code",
      "metadata": {
        "id": "textile-avenue"
      },
      "source": [
        "!wget -q https://s3.amazonaws.com/fast-ai-imageclas/imagenette2-320.tgz\n",
        "!tar zxf /content/imagenette2-320.tgz"
      ],
      "id": "textile-avenue",
      "execution_count": 20,
      "outputs": []
    },
    {
      "cell_type": "code",
      "metadata": {
        "id": "6y_wVLQMntVn",
        "colab": {
          "base_uri": "https://localhost:8080/"
        },
        "outputId": "962c0735-eeea-4601-a718-3f8db7fb2323"
      },
      "source": [
        "import torch\n",
        "\n",
        "print(torch.cuda.is_available())\n",
        "if torch.cuda.is_available():\n",
        "  print(torch.cuda.get_device_name(0))\n",
        "\n",
        "device = torch.device('cuda' if torch.cuda.is_available() else 'cpu')\n",
        "#device = 'cpu'"
      ],
      "id": "6y_wVLQMntVn",
      "execution_count": 21,
      "outputs": [
        {
          "output_type": "stream",
          "name": "stdout",
          "text": [
            "True\n",
            "Tesla T4\n"
          ]
        }
      ]
    },
    {
      "cell_type": "markdown",
      "metadata": {
        "id": "XbXTJAWInyff"
      },
      "source": [
        "### 1.1 Create DataSet (Task 1)"
      ],
      "id": "XbXTJAWInyff"
    },
    {
      "cell_type": "code",
      "metadata": {
        "id": "-1vfiuUVn255"
      },
      "source": [
        "from torchvision import datasets, transforms\n",
        "transform = transforms.Compose([transforms.Resize((224, 224)),\n",
        "                                transforms.ToTensor()])\n",
        "train_dataset = datasets.ImageFolder('imagenette2-320/train', transform=transform)\n",
        "val_dataset = datasets.ImageFolder('imagenette2-320/val', transform=transform)"
      ],
      "id": "-1vfiuUVn255",
      "execution_count": 22,
      "outputs": []
    },
    {
      "cell_type": "markdown",
      "metadata": {
        "id": "fundamental-algorithm"
      },
      "source": [
        "### 1.2 Create DataLoader (Task 2)"
      ],
      "id": "fundamental-algorithm"
    },
    {
      "cell_type": "code",
      "metadata": {
        "id": "conventional-packet"
      },
      "source": [
        "train_dl = torch.utils.data.DataLoader(train_dataset, batch_size=8, shuffle=True)\n",
        "val_dl = torch.utils.data.DataLoader(val_dataset, batch_size=8, shuffle=True)"
      ],
      "id": "conventional-packet",
      "execution_count": 23,
      "outputs": []
    },
    {
      "cell_type": "markdown",
      "metadata": {
        "id": "sufficient-tuner"
      },
      "source": [
        "### 1.3 One Example (Task 3)"
      ],
      "id": "sufficient-tuner"
    },
    {
      "cell_type": "code",
      "metadata": {
        "id": "incorrect-healing",
        "colab": {
          "base_uri": "https://localhost:8080/"
        },
        "outputId": "01ec2d1c-1864-46ef-a4f4-1383273d6e3c"
      },
      "source": [
        "images, labels = next(iter(train_dl))\n",
        "print('Shape of the image data of one batch: '+ str(images.shape))\n",
        "print('Shape of the label tensor of one batch: ' + str(labels.shape))\n"
      ],
      "id": "incorrect-healing",
      "execution_count": 25,
      "outputs": [
        {
          "output_type": "stream",
          "name": "stdout",
          "text": [
            "Shape of the image data of one batch: torch.Size([8, 3, 224, 224])\n",
            "Shape of the label tensor of one batch: torch.Size([8])\n"
          ]
        }
      ]
    },
    {
      "cell_type": "code",
      "source": [
        "dic = {0: \"tench\",\n",
        "        1: \"English springer\",\n",
        "        2: \"cassette player\",\n",
        "        3: \"chain saw\",\n",
        "        4: \"church\",\n",
        "        5: \"French horn\",\n",
        "        6: \"garbage truck\",\n",
        "        7: \"gas pump\",\n",
        "        8: \"golf ball\",\n",
        "        9: \"parachute\"\n",
        "        }"
      ],
      "metadata": {
        "id": "uDkLu8_tCL2c"
      },
      "id": "uDkLu8_tCL2c",
      "execution_count": 24,
      "outputs": []
    },
    {
      "cell_type": "code",
      "source": [
        "import matplotlib.pyplot as plt\n",
        "import numpy as np\n",
        "\n",
        "def show_image(image, label):\n",
        "  plt.imshow(image.permute(1, 2, 0))\n",
        "  plt.title(\"Label: \" + str(label.item()) + \" (\" + dic[label.item()] + \")\")\n",
        "\n",
        "random_index = int(np.random.random()*8)\n",
        "show_image(images[random_index], labels[random_index])"
      ],
      "metadata": {
        "colab": {
          "base_uri": "https://localhost:8080/",
          "height": 452
        },
        "id": "DjubeFNdeNQp",
        "outputId": "765874c2-b008-4954-9314-f5122d217910"
      },
      "id": "DjubeFNdeNQp",
      "execution_count": 26,
      "outputs": [
        {
          "output_type": "display_data",
          "data": {
            "text/plain": [
              "<Figure size 640x480 with 1 Axes>"
            ],
            "image/png": "[encoded data removed]"
          },
          "metadata": {}
        }
      ]
    },
    {
      "cell_type": "markdown",
      "metadata": {
        "id": "logical-department"
      },
      "source": [
        "## 2. AlexNet Model from Scratch\n",
        "\n",
        "We introduced [AlexNet](https://papers.nips.cc/paper/2012/file/c399862d3b9d6b76c8436e924a68c45b-Paper.pdf) in the lecture. We now want to implement AlexNet from scratch using almost the same architecture as the authors proposed in the original paper and in the ImageNet Large Scale Visual Recognition Competition (ILSVRC)\n",
        "\n",
        "Task 4: Create a AlexNetFashionCNN class with 5 Convolutional Layers, 3 Pooling Layers and 2 fully connected-layers. \n",
        "* First convolutional layer: Kernel size: 11x11, stride:4, padding=2, check the number of input/output channels yourself\n",
        "* First max pooling layer: Window size: 3x3, stride:2\n",
        "* Second conv layer: Kernel size: 5x5, stride=1, padding:2, check the number of input/output channels: yourself\n",
        "* Second max pooling layer: Window size: 3x3, stride:2\n",
        "* Third conv layer: Kernel size: 3x3, stride=1, padding=1, check the number of input/output channels: yourself\n",
        "* Fourth conv layer: Kernel size: 3x3, stride=1, padding=1, check the number of input/output channels: yourself\n",
        "* Fifth conv layer: Kernel size: 3x3, stride=1, padding=1, check the number of input/output channels: yourself\n",
        "* Third max pooling layer: Window size: 3x3, stride=2\n",
        "* The ReLU non-linearity is applied to the output of every convolutional and fully-connected layer. (except for the last fully-connected layer!) \n",
        "* *Hint 1: Think about the output of the last layer. Should we apply an activation function? If yes, which one is most appropriate?\n",
        "* *Hint 2: What is the number of neurons in the first fully-connected layer? Try to figure it out by yourself!\n",
        "\n",
        "Task 5: Forward propagate the first batch to test whether the network is working as expected. \n",
        "\n",
        "Task 6: Implement a method which serves as a training loop to train the network\n",
        "* The method should expect the following parameters: the model which should be trained, number of epochs, optimizer, and loss function\n",
        "* The method should return the training and test accuracy of each epoch. Optionally, print the accuracy of training and validation for each epoch during training\n",
        "* This is actually the most difficult part, have a look at the other notebooks which we have already provided\n",
        "\n",
        "Task 7: Create an optimizer object (such as stochastic gradient descent), define the number of epochs and train the AlexNetFashionCNN\n",
        "* Play with the number of epochs, and the learning rate of the optimizer until you are satisfied with the results"
      ],
      "id": "logical-department"
    },
    {
      "cell_type": "markdown",
      "metadata": {
        "id": "twenty-fifteen"
      },
      "source": [
        "### 2.1 AlexNetFashionCNN (Task 4)"
      ],
      "id": "twenty-fifteen"
    },
    {
      "cell_type": "code",
      "source": [
        "import torch.nn.functional as F\n",
        "from torch import nn\n",
        "from torchvision import transforms\n",
        "import random\n",
        "from tqdm.notebook import tqdm\n",
        "from torch.nn import LogSoftmax"
      ],
      "metadata": {
        "id": "LxdKbFEVuIUs"
      },
      "id": "LxdKbFEVuIUs",
      "execution_count": 27,
      "outputs": []
    },
    {
      "cell_type": "code",
      "source": [
        "class SimpleCnn(nn.Module):\n",
        "    def __init__(self):\n",
        "        super(SimpleCnn, self).__init__()\n",
        "        #First convolutional layer: Kernel size: 11x11, stride:4, padding=2, check the number of input/output channels yourself\n",
        "        self.conv_1 = nn.Conv2d(3, 96, kernel_size=11, stride=4, padding=2)\n",
        "        self.act1 = nn.ReLU()\n",
        "        #First max pooling layer: Window size: 3x3, stride:2\n",
        "        self.pooling_1 = nn.MaxPool2d(kernel_size=3, stride=2)\n",
        "\n",
        "        #Second conv layer: Kernel size: 5x5, stride=1, padding:2, check the number of input/output channels: yourself\n",
        "        self.conv_2 = nn.Conv2d(96, 256, kernel_size=5, stride=1, padding=2)\n",
        "        self.act2 = nn.ReLU()\n",
        "        #Second max pooling layer: Window size: 3x3, stride:2\n",
        "        self.pooling_2 = nn.MaxPool2d(kernel_size=3, stride=2)\n",
        "\n",
        "        #Third conv layer: Kernel size: 3x3, stride=1, padding=1, check the number of input/output channels: yourself\n",
        "        self.conv_3 = nn.Conv2d(256, 384, kernel_size=3, stride=1, padding=1)\n",
        "        self.act3 = nn.ReLU()\n",
        "\n",
        "        #Fourth conv layer: Kernel size: 3x3, stride=1, padding=1, check the number of input/output channels: yourself\n",
        "        self.conv_4 = nn.Conv2d(384, 384, kernel_size=3, stride=1, padding=1)\n",
        "        self.act4 = nn.ReLU()\n",
        "\n",
        "        #Fifth conv layer: Kernel size: 3x3, stride=1, padding=1, check the number of input/output channels: yourself\n",
        "        self.conv_5 = nn.Conv2d(384, 256, kernel_size=3, stride=1, padding=1)\n",
        "        self.act5 = nn.ReLU()\n",
        "        #Third max pooling layer: Window size: 3x3, stride=2\n",
        "        self.pooling_5 = nn.MaxPool2d(kernel_size=3, stride=2)\n",
        "\n",
        "        # Fully-connected Layer\n",
        "        self.fc1 = nn.Linear(in_features=256 * 6 * 6, out_features=4096)\n",
        "        self.act6 = nn.ReLU()\n",
        "        self.fc2 = nn.Linear(in_features=4096, out_features=10) #10 output features\n",
        "        #self.logSoftmax = LogSoftmax(dim=1)\n",
        "\n",
        "    def forward(self, X):\n",
        "        \n",
        "        feature_map_1 = self.conv_1(X)                                          \n",
        "        nonlinear_feature_map_1 = self.act1(feature_map_1)                         \n",
        "        pooled_nonlinear_feature_map_1 = self.pooling_1(nonlinear_feature_map_1)  \n",
        "\n",
        "        feature_map_2 = self.conv_2(pooled_nonlinear_feature_map_1)             \n",
        "        nonlinear_feature_map_2 = self.act2(feature_map_2)                        \n",
        "        pooled_nonlinear_feature_map_2 = self.pooling_2(nonlinear_feature_map_2)  \n",
        "\n",
        "        feature_map_3 = self.conv_3(pooled_nonlinear_feature_map_2)             \n",
        "        nonlinear_feature_map_3 = self.act3(feature_map_3)                         \n",
        "\n",
        "        feature_map_4 = self.conv_4(nonlinear_feature_map_3)                    \n",
        "        nonlinear_feature_map_4 = self.act4(feature_map_4)                         \n",
        "\n",
        "        feature_map_5 = self.conv_5(nonlinear_feature_map_4)                    \n",
        "        nonlinear_feature_map_5 = self.act5(feature_map_5)                         \n",
        "        pooled_nonlinear_feature_map_5 = self.pooling_5(nonlinear_feature_map_5)  \n",
        "        \n",
        "\n",
        "        feature_map_flattened = pooled_nonlinear_feature_map_5.flatten(1)       \n",
        "        output = self.fc1(feature_map_flattened)                                \n",
        "        nonlinear_output = self.act6(output)                                       \n",
        "        output = self.fc2(nonlinear_output)                                     \n",
        "        #output = self.logSoftmax(output)\n",
        "        \n",
        "        return output"
      ],
      "metadata": {
        "id": "6RJAOg_2om9N"
      },
      "id": "6RJAOg_2om9N",
      "execution_count": 28,
      "outputs": []
    },
    {
      "cell_type": "code",
      "source": [
        "cnn = SimpleCnn()  # Create object from class SimpleCnn\n",
        "# pass the model to the gpu\n",
        "cnn.to(device)"
      ],
      "metadata": {
        "id": "UxoT6hCbsd_D",
        "colab": {
          "base_uri": "https://localhost:8080/"
        },
        "outputId": "45f003cb-f62e-43fd-9f3a-6ef0513ac905"
      },
      "id": "UxoT6hCbsd_D",
      "execution_count": 29,
      "outputs": [
        {
          "output_type": "execute_result",
          "data": {
            "text/plain": [
              "SimpleCnn(\n",
              "  (conv_1): Conv2d(3, 96, kernel_size=(11, 11), stride=(4, 4), padding=(2, 2))\n",
              "  (act1): ReLU()\n",
              "  (pooling_1): MaxPool2d(kernel_size=3, stride=2, padding=0, dilation=1, ceil_mode=False)\n",
              "  (conv_2): Conv2d(96, 256, kernel_size=(5, 5), stride=(1, 1), padding=(2, 2))\n",
              "  (act2): ReLU()\n",
              "  (pooling_2): MaxPool2d(kernel_size=3, stride=2, padding=0, dilation=1, ceil_mode=False)\n",
              "  (conv_3): Conv2d(256, 384, kernel_size=(3, 3), stride=(1, 1), padding=(1, 1))\n",
              "  (act3): ReLU()\n",
              "  (conv_4): Conv2d(384, 384, kernel_size=(3, 3), stride=(1, 1), padding=(1, 1))\n",
              "  (act4): ReLU()\n",
              "  (conv_5): Conv2d(384, 256, kernel_size=(3, 3), stride=(1, 1), padding=(1, 1))\n",
              "  (act5): ReLU()\n",
              "  (pooling_5): MaxPool2d(kernel_size=3, stride=2, padding=0, dilation=1, ceil_mode=False)\n",
              "  (fc1): Linear(in_features=9216, out_features=4096, bias=True)\n",
              "  (act6): ReLU()\n",
              "  (fc2): Linear(in_features=4096, out_features=10, bias=True)\n",
              ")"
            ]
          },
          "metadata": {},
          "execution_count": 29
        }
      ]
    },
    {
      "cell_type": "markdown",
      "metadata": {
        "id": "serious-pizza"
      },
      "source": [
        "### 2.2 Forward Propagation (first batch) (Task 5)"
      ],
      "id": "serious-pizza"
    },
    {
      "cell_type": "code",
      "source": [
        "##get first batch\n",
        "#first_batch = next(iter(train_dl))\n",
        "batch_num = 0\n",
        "trainCorrect = 0\n",
        "trainTotal = 0\n",
        "for (images, labels) in train_dl:\n",
        "  #print(images.shape)\n",
        "  #print(labels.shape)\n",
        "  batch_num +=1\n",
        "  if batch_num == 1:\n",
        "    (images, labels) = (images.to(device), labels.to(device))\n",
        "    pred = cnn(images)\n",
        "\n",
        "    trainCorrect += (pred.argmax(1) == labels).type(torch.float).sum().item()\n",
        "    trainTotal += labels.size(0)\n",
        "    \n",
        "    print('Prediction: ' + str(pred))\n",
        "    print('Labels: ' + str(labels))\n",
        "\n",
        "    #print(torch.sum(torch.eq(pred, labels)).item())\n",
        "    print('Prediction ARGMAX : ' + str(torch.argmax(pred, dim=1)))\n",
        "    print('Prediction Correct? : ' + str((pred.argmax(1) == labels).type(torch.float)))\n",
        "    \n",
        "    print('Correct predicted: ' + str(trainCorrect))\n",
        "    print('Total predicted: ' + str(trainTotal))\n",
        "    \n",
        "  else:\n",
        "    break"
      ],
      "metadata": {
        "colab": {
          "base_uri": "https://localhost:8080/"
        },
        "id": "iAmOc6HyGYns",
        "outputId": "67ffe79c-32a5-48bc-be4e-a722b8bf45e8"
      },
      "id": "iAmOc6HyGYns",
      "execution_count": 30,
      "outputs": [
        {
          "output_type": "stream",
          "name": "stdout",
          "text": [
            "Prediction: tensor([[ 0.0115,  0.0150, -0.0141,  0.0054,  0.0064, -0.0212, -0.0190,  0.0077,\n",
            "         -0.0038, -0.0074],\n",
            "        [ 0.0108,  0.0135, -0.0134,  0.0045,  0.0073, -0.0205, -0.0186,  0.0067,\n",
            "         -0.0056, -0.0068],\n",
            "        [ 0.0112,  0.0151, -0.0136,  0.0050,  0.0059, -0.0208, -0.0195,  0.0079,\n",
            "         -0.0030, -0.0074],\n",
            "        [ 0.0114,  0.0148, -0.0139,  0.0053,  0.0067, -0.0205, -0.0196,  0.0076,\n",
            "         -0.0045, -0.0071],\n",
            "        [ 0.0120,  0.0146, -0.0140,  0.0053,  0.0061, -0.0203, -0.0194,  0.0076,\n",
            "         -0.0041, -0.0067],\n",
            "        [ 0.0119,  0.0154, -0.0137,  0.0058,  0.0071, -0.0210, -0.0194,  0.0080,\n",
            "         -0.0041, -0.0066],\n",
            "        [ 0.0119,  0.0142, -0.0141,  0.0054,  0.0060, -0.0216, -0.0194,  0.0082,\n",
            "         -0.0044, -0.0070],\n",
            "        [ 0.0132,  0.0154, -0.0139,  0.0058,  0.0070, -0.0205, -0.0195,  0.0071,\n",
            "         -0.0051, -0.0075]], device='cuda:0', grad_fn=<AddmmBackward0>)\n",
            "Labels: tensor([8, 2, 7, 9, 5, 8, 7, 4], device='cuda:0')\n",
            "Prediction ARGMAX : tensor([1, 1, 1, 1, 1, 1, 1, 1], device='cuda:0')\n",
            "Prediction Correct? : tensor([0., 0., 0., 0., 0., 0., 0., 0.], device='cuda:0')\n",
            "Correct predicted: 0.0\n",
            "Total predicted: 8\n"
          ]
        }
      ]
    },
    {
      "cell_type": "markdown",
      "metadata": {
        "id": "obvious-webster"
      },
      "source": [
        "### 2.3 Training Loop (Task 6)"
      ],
      "id": "obvious-webster"
    },
    {
      "cell_type": "code",
      "source": [
        "# To get a better idea of how well your model performs\n",
        "# you should implement an accuracy function that is\n",
        "# called after each epoch of your training loop\n",
        "def accuracy(out, yb):    \n",
        "    return (out.argmax(1) == yb).type(torch.float).sum().item()"
      ],
      "metadata": {
        "id": "jVYdUJlwYFKR"
      },
      "id": "jVYdUJlwYFKR",
      "execution_count": 31,
      "outputs": []
    },
    {
      "cell_type": "code",
      "metadata": {
        "id": "important-romania"
      },
      "source": [
        "def train(net, train_dl, val_dl, epochs, optimizer, loss_func):\n",
        "    # Set the model on train mode\n",
        "    net.train()\n",
        "    # Define arrays for evaluation\n",
        "    train_losses, valid_losses = [], []\n",
        "    train_accs, valid_accs = [], []\n",
        "\n",
        "    # Loop over all epochs\n",
        "    for epoch in tqdm(range(epochs)):\n",
        "        # Reset evaluation variables\n",
        "        train_loss, valid_loss = 0, 0\n",
        "        train_acc, valid_acc = 0, 0\n",
        "        train_correct, valid_correct = 0, 0\n",
        "        train_total, valid_total = 0, 0\n",
        "\n",
        "        # Training loop\n",
        "        for (images, labels) in train_dl:        \n",
        "          # Push batch to GPU\n",
        "          (images, labels) = (images.to(device), labels.to(device))\n",
        "          optimizer.zero_grad()\n",
        "\n",
        "          # Predict\n",
        "          pred = net(images)        \n",
        "          # Calculate loss and adjust weights            \n",
        "          loss = loss_func(pred, labels)\n",
        "          \n",
        "          loss.backward()\n",
        "          optimizer.step()\n",
        "\n",
        "          # Calculate evaluation metrics\n",
        "          train_loss += loss.item()\n",
        "          train_correct += accuracy(pred, labels)\n",
        "          train_total += labels.size(0)\n",
        "\n",
        "        # Evaluation loop\n",
        "        net.eval()\n",
        "        with torch.no_grad():\n",
        "            correct = 0\n",
        "            total = 0\n",
        "            for (images, labels) in val_dl:            \n",
        "              # Push batch to GPU\n",
        "              (images, labels) = (images.to(device), labels.to(device))\n",
        "\n",
        "              # Predict\n",
        "              pred = net(images)\n",
        "\n",
        "              # Calculate evaluation metrics                \n",
        "              loss = loss_func(pred, labels)\n",
        "              valid_loss += loss.item()\n",
        "              valid_correct += accuracy(pred, labels)\n",
        "              valid_total += labels.size(0)\n",
        "              \n",
        "\n",
        "        # Calculations for evaluations\n",
        "        train_loss /= len(train_dl)\n",
        "        train_acc = train_correct / train_total\n",
        "        valid_loss /= len(val_dl)\n",
        "        valid_acc = valid_correct / valid_total\n",
        "\n",
        "        train_losses.append(train_loss)\n",
        "        valid_losses.append(valid_loss)\n",
        "        train_accs.append(train_acc)\n",
        "        valid_accs.append(valid_acc)\n",
        "\n",
        "        print(f'Epoch: {epoch+1} \\tTraining Loss: {train_loss:.6f} \\tTraining Acc: {train_acc:.6f} \\tValidation Loss: {valid_loss:.6f} \\tValidation Acc: {valid_acc:.6f}')\n",
        "\n",
        "    # Return losses for plotting\n",
        "    return train_losses, valid_losses, train_accs, valid_accs\n"
      ],
      "id": "important-romania",
      "execution_count": 32,
      "outputs": []
    },
    {
      "cell_type": "markdown",
      "metadata": {
        "id": "fifth-ecuador"
      },
      "source": [
        "### 2.4 Training (Task 7)"
      ],
      "id": "fifth-ecuador"
    },
    {
      "cell_type": "code",
      "source": [
        "epochs = 20\n",
        "lr = 0.0025\n",
        "optimizer = torch.optim.SGD(cnn.parameters(), lr=lr, momentum = 0.9)\n",
        "loss_func = nn.CrossEntropyLoss()  # Cross Entropy Loss\n",
        "#loss_func = nn.NLLLoss()"
      ],
      "metadata": {
        "id": "pJ-d4kTDYTRN"
      },
      "id": "pJ-d4kTDYTRN",
      "execution_count": 33,
      "outputs": []
    },
    {
      "cell_type": "code",
      "metadata": {
        "id": "boolean-reggae",
        "colab": {
          "base_uri": "https://localhost:8080/",
          "height": 406,
          "referenced_widgets": [
            "ccb7f03b146e470ba7ae571b8fd83e7b",
            "d7ec6fd7559b4d9e97e34756700784b6",
            "010c530a3cdb4141a56c993811174b1f",
            "fe734819683f49b5bdbaaab64470bbde",
            "70ec4d1429af4736ae6c2fbb858a11c0",
            "bc5fc9baad88453582dc644567b6fe8e",
            "6b11f702af6a4ea5976fb402eb64ee35",
            "a70bd3b6a5f24e06879da8e43fe7e1e8",
            "787d2be571fa4a6e959bc915909af3c8",
            "45c98b560fc344f0a423b3443e5a48de",
            "cc3808f8f33a49aa913d342c471da724"
          ]
        },
        "outputId": "e918b1d4-304b-414d-9ce0-bbf3bacdcea3"
      },
      "source": [
        "# Execute the train function and train the model.\n",
        "train_losses, valid_losses, train_accs, valid_accs = train(cnn, train_dl, val_dl, epochs, optimizer, loss_func)"
      ],
      "id": "boolean-reggae",
      "execution_count": 34,
      "outputs": [
        {
          "output_type": "display_data",
          "data": {
            "text/plain": [
              "  0%|          | 0/20 [00:00<?, ?it/s]"
            ],
            "application/vnd.jupyter.widget-view+json": {
              "version_major": 2,
              "version_minor": 0,
              "model_id": "ccb7f03b146e470ba7ae571b8fd83e7b"
            }
          },
          "metadata": {}
        },
        {
          "output_type": "stream",
          "name": "stdout",
          "text": [
            "Epoch: 1 \tTraining Loss: 2.285883 \tTraining Acc: 0.128841 \tValidation Loss: 2.248232 \tValidation Acc: 0.132739\n",
            "Epoch: 2 \tTraining Loss: 2.114168 \tTraining Acc: 0.245221 \tValidation Loss: 1.918750 \tValidation Acc: 0.326624\n",
            "Epoch: 3 \tTraining Loss: 1.749704 \tTraining Acc: 0.400148 \tValidation Loss: 1.689770 \tValidation Acc: 0.420637\n",
            "Epoch: 4 \tTraining Loss: 1.517891 \tTraining Acc: 0.496040 \tValidation Loss: 1.582717 \tValidation Acc: 0.471083\n",
            "Epoch: 5 \tTraining Loss: 1.303273 \tTraining Acc: 0.573133 \tValidation Loss: 1.315429 \tValidation Acc: 0.571465\n",
            "Epoch: 6 \tTraining Loss: 1.133159 \tTraining Acc: 0.622663 \tValidation Loss: 1.299017 \tValidation Acc: 0.572739\n",
            "Epoch: 7 \tTraining Loss: 0.971341 \tTraining Acc: 0.673778 \tValidation Loss: 1.341078 \tValidation Acc: 0.575032\n",
            "Epoch: 8 \tTraining Loss: 0.766346 \tTraining Acc: 0.744535 \tValidation Loss: 1.337760 \tValidation Acc: 0.612994\n",
            "Epoch: 9 \tTraining Loss: 0.577349 \tTraining Acc: 0.807371 \tValidation Loss: 1.423240 \tValidation Acc: 0.584204\n",
            "Epoch: 10 \tTraining Loss: 0.420123 \tTraining Acc: 0.861865 \tValidation Loss: 1.564189 \tValidation Acc: 0.596433\n",
            "Epoch: 11 \tTraining Loss: 0.347089 \tTraining Acc: 0.886788 \tValidation Loss: 1.914228 \tValidation Acc: 0.597197\n",
            "Epoch: 12 \tTraining Loss: 0.296700 \tTraining Acc: 0.907910 \tValidation Loss: 1.863987 \tValidation Acc: 0.598471\n",
            "Epoch: 13 \tTraining Loss: 0.237581 \tTraining Acc: 0.927342 \tValidation Loss: 1.866688 \tValidation Acc: 0.604331\n",
            "Epoch: 14 \tTraining Loss: 0.180939 \tTraining Acc: 0.944767 \tValidation Loss: 2.390710 \tValidation Acc: 0.605605\n",
            "Epoch: 15 \tTraining Loss: 0.175825 \tTraining Acc: 0.946351 \tValidation Loss: 2.387004 \tValidation Acc: 0.606624\n",
            "Epoch: 16 \tTraining Loss: 0.182242 \tTraining Acc: 0.945506 \tValidation Loss: 2.327799 \tValidation Acc: 0.565350\n",
            "Epoch: 17 \tTraining Loss: 0.169189 \tTraining Acc: 0.949203 \tValidation Loss: 2.271251 \tValidation Acc: 0.620892\n",
            "Epoch: 18 \tTraining Loss: 0.151051 \tTraining Acc: 0.957757 \tValidation Loss: 2.675288 \tValidation Acc: 0.580637\n",
            "Epoch: 19 \tTraining Loss: 0.148656 \tTraining Acc: 0.957968 \tValidation Loss: 2.557609 \tValidation Acc: 0.607643\n",
            "Epoch: 20 \tTraining Loss: 0.129792 \tTraining Acc: 0.961031 \tValidation Loss: 3.138117 \tValidation Acc: 0.564331\n"
          ]
        }
      ]
    },
    {
      "cell_type": "code",
      "source": [
        "fig, (ax1, ax2) = plt.subplots(1, 2, figsize=(12, 6))\n",
        "\n",
        "# Plot 1: Train/Valid Loss\n",
        "ax1.set_title('Loss')\n",
        "ax1.plot(list(train_losses), label='Train Loss')\n",
        "ax1.plot(list(valid_losses), label='Valid Loss')\n",
        "ax1.legend()\n",
        "\n",
        "# Plot 2: Train/Valid Accuracy\n",
        "ax2.set_title('Accuracy')\n",
        "ax2.plot(list(train_accs), label='Train Accuracy')\n",
        "ax2.plot(list(valid_accs), label='Valid Accuracy')\n",
        "ax2.legend()\n",
        "\n",
        "plt.tight_layout()\n",
        "plt.show()"
      ],
      "metadata": {
        "id": "I8dUCOESGOcT",
        "colab": {
          "base_uri": "https://localhost:8080/",
          "height": 607
        },
        "outputId": "5c05bab2-188c-45cf-85a9-cf0bfee988f6"
      },
      "id": "I8dUCOESGOcT",
      "execution_count": 35,
      "outputs": [
        {
          "output_type": "display_data",
          "data": {
            "text/plain": [
              "<Figure size 1200x600 with 2 Axes>"
            ],
            "image/png": "[encoded data removed]"
          },
          "metadata": {}
        }
      ]
    },
    {
      "cell_type": "markdown",
      "metadata": {
        "id": "starting-steering"
      },
      "source": [
        "## 3. Pretrained ResNet18\n",
        "\n",
        "In practice, very few people train an entire Convolutional Network from scratch (with random initialization), because it is relatively rare to have a dataset of sufficient size. Instead, it is common to pretrain a ConvNet on a very large dataset (e.g. ImageNet, which contains 1.2 million images with 1000 categories), and then use the ConvNet either as an initialization or a fixed feature extractor for the task of interest.\n",
        "\n",
        "Hence, we'll now use a ResNet18 model pretrained on ImageNet.\n",
        "\n",
        "Task 10: Download the ResNet18 architecture and weights from PyTorch, create a pretrained ResNet18 CNN, and replace the last fully-connected layer\n",
        "* Again, you can use PyTorch's [torchvision-models](https://pytorch.org/vision/stable/models.html#torchvision-models). But this time, set pretrained=True in order to download the weights from the pretrained model\n",
        "* *Hint: Note that the ResNet18 was pretrained on the ImageNet data set where the task was to classify 1000 different labels. Here we will only need 10 classes. Thus, you need to **replace** the last fully-connected layer with one which only produces 10 outputs instead of 1000.*\n",
        "\n",
        "Task 11: Use the *fit method* defined above to train the pretrained ResNet18 model\n",
        "* Again, play with the optimizer and the number of epochs until you are satisfied with the results (in terms of accuracy on training and validation set)"
      ],
      "id": "starting-steering"
    },
    {
      "cell_type": "code",
      "source": [
        "import torchvision.models as models"
      ],
      "metadata": {
        "id": "tHdsOwF_tlko"
      },
      "id": "tHdsOwF_tlko",
      "execution_count": 38,
      "outputs": []
    },
    {
      "cell_type": "markdown",
      "metadata": {
        "id": "virgin-produce"
      },
      "source": [
        "### 3.1 Create Pretrained ResNet18 Model (Task 10)"
      ],
      "id": "virgin-produce"
    },
    {
      "cell_type": "code",
      "metadata": {
        "id": "instructional-monitor",
        "colab": {
          "base_uri": "https://localhost:8080/"
        },
        "outputId": "e9e2b7cf-bd5b-4d88-af1a-ae68aee881ff"
      },
      "source": [
        "resnetcnn = models.resnet18(weights=models.ResNet18_Weights.DEFAULT) #download the pretrained model\n",
        "num_classes = 10 #we use 10 output classes\n",
        "num_features = resnetcnn.fc.in_features #input features in the fully connected layer\n",
        "fc_layer = nn.Linear(num_features, num_classes) #new fc layer\n",
        "resnetcnn.fc = fc_layer # Replace the last fully-connected layer\n",
        "\n",
        "resnetcnn.to(device)"
      ],
      "id": "instructional-monitor",
      "execution_count": 39,
      "outputs": [
        {
          "output_type": "stream",
          "name": "stderr",
          "text": [
            "Downloading: \"https://download.pytorch.org/models/resnet18-f37072fd.pth\" to /root/.cache/torch/hub/checkpoints/resnet18-f37072fd.pth\n",
            "100%|██████████| 44.7M/44.7M [00:00<00:00, 233MB/s]\n"
          ]
        },
        {
          "output_type": "execute_result",
          "data": {
            "text/plain": [
              "ResNet(\n",
              "  (conv1): Conv2d(3, 64, kernel_size=(7, 7), stride=(2, 2), padding=(3, 3), bias=False)\n",
              "  (bn1): BatchNorm2d(64, eps=1e-05, momentum=0.1, affine=True, track_running_stats=True)\n",
              "  (relu): ReLU(inplace=True)\n",
              "  (maxpool): MaxPool2d(kernel_size=3, stride=2, padding=1, dilation=1, ceil_mode=False)\n",
              "  (layer1): Sequential(\n",
              "    (0): BasicBlock(\n",
              "      (conv1): Conv2d(64, 64, kernel_size=(3, 3), stride=(1, 1), padding=(1, 1), bias=False)\n",
              "      (bn1): BatchNorm2d(64, eps=1e-05, momentum=0.1, affine=True, track_running_stats=True)\n",
              "      (relu): ReLU(inplace=True)\n",
              "      (conv2): Conv2d(64, 64, kernel_size=(3, 3), stride=(1, 1), padding=(1, 1), bias=False)\n",
              "      (bn2): BatchNorm2d(64, eps=1e-05, momentum=0.1, affine=True, track_running_stats=True)\n",
              "    )\n",
              "    (1): BasicBlock(\n",
              "      (conv1): Conv2d(64, 64, kernel_size=(3, 3), stride=(1, 1), padding=(1, 1), bias=False)\n",
              "      (bn1): BatchNorm2d(64, eps=1e-05, momentum=0.1, affine=True, track_running_stats=True)\n",
              "      (relu): ReLU(inplace=True)\n",
              "      (conv2): Conv2d(64, 64, kernel_size=(3, 3), stride=(1, 1), padding=(1, 1), bias=False)\n",
              "      (bn2): BatchNorm2d(64, eps=1e-05, momentum=0.1, affine=True, track_running_stats=True)\n",
              "    )\n",
              "  )\n",
              "  (layer2): Sequential(\n",
              "    (0): BasicBlock(\n",
              "      (conv1): Conv2d(64, 128, kernel_size=(3, 3), stride=(2, 2), padding=(1, 1), bias=False)\n",
              "      (bn1): BatchNorm2d(128, eps=1e-05, momentum=0.1, affine=True, track_running_stats=True)\n",
              "      (relu): ReLU(inplace=True)\n",
              "      (conv2): Conv2d(128, 128, kernel_size=(3, 3), stride=(1, 1), padding=(1, 1), bias=False)\n",
              "      (bn2): BatchNorm2d(128, eps=1e-05, momentum=0.1, affine=True, track_running_stats=True)\n",
              "      (downsample): Sequential(\n",
              "        (0): Conv2d(64, 128, kernel_size=(1, 1), stride=(2, 2), bias=False)\n",
              "        (1): BatchNorm2d(128, eps=1e-05, momentum=0.1, affine=True, track_running_stats=True)\n",
              "      )\n",
              "    )\n",
              "    (1): BasicBlock(\n",
              "      (conv1): Conv2d(128, 128, kernel_size=(3, 3), stride=(1, 1), padding=(1, 1), bias=False)\n",
              "      (bn1): BatchNorm2d(128, eps=1e-05, momentum=0.1, affine=True, track_running_stats=True)\n",
              "      (relu): ReLU(inplace=True)\n",
              "      (conv2): Conv2d(128, 128, kernel_size=(3, 3), stride=(1, 1), padding=(1, 1), bias=False)\n",
              "      (bn2): BatchNorm2d(128, eps=1e-05, momentum=0.1, affine=True, track_running_stats=True)\n",
              "    )\n",
              "  )\n",
              "  (layer3): Sequential(\n",
              "    (0): BasicBlock(\n",
              "      (conv1): Conv2d(128, 256, kernel_size=(3, 3), stride=(2, 2), padding=(1, 1), bias=False)\n",
              "      (bn1): BatchNorm2d(256, eps=1e-05, momentum=0.1, affine=True, track_running_stats=True)\n",
              "      (relu): ReLU(inplace=True)\n",
              "      (conv2): Conv2d(256, 256, kernel_size=(3, 3), stride=(1, 1), padding=(1, 1), bias=False)\n",
              "      (bn2): BatchNorm2d(256, eps=1e-05, momentum=0.1, affine=True, track_running_stats=True)\n",
              "      (downsample): Sequential(\n",
              "        (0): Conv2d(128, 256, kernel_size=(1, 1), stride=(2, 2), bias=False)\n",
              "        (1): BatchNorm2d(256, eps=1e-05, momentum=0.1, affine=True, track_running_stats=True)\n",
              "      )\n",
              "    )\n",
              "    (1): BasicBlock(\n",
              "      (conv1): Conv2d(256, 256, kernel_size=(3, 3), stride=(1, 1), padding=(1, 1), bias=False)\n",
              "      (bn1): BatchNorm2d(256, eps=1e-05, momentum=0.1, affine=True, track_running_stats=True)\n",
              "      (relu): ReLU(inplace=True)\n",
              "      (conv2): Conv2d(256, 256, kernel_size=(3, 3), stride=(1, 1), padding=(1, 1), bias=False)\n",
              "      (bn2): BatchNorm2d(256, eps=1e-05, momentum=0.1, affine=True, track_running_stats=True)\n",
              "    )\n",
              "  )\n",
              "  (layer4): Sequential(\n",
              "    (0): BasicBlock(\n",
              "      (conv1): Conv2d(256, 512, kernel_size=(3, 3), stride=(2, 2), padding=(1, 1), bias=False)\n",
              "      (bn1): BatchNorm2d(512, eps=1e-05, momentum=0.1, affine=True, track_running_stats=True)\n",
              "      (relu): ReLU(inplace=True)\n",
              "      (conv2): Conv2d(512, 512, kernel_size=(3, 3), stride=(1, 1), padding=(1, 1), bias=False)\n",
              "      (bn2): BatchNorm2d(512, eps=1e-05, momentum=0.1, affine=True, track_running_stats=True)\n",
              "      (downsample): Sequential(\n",
              "        (0): Conv2d(256, 512, kernel_size=(1, 1), stride=(2, 2), bias=False)\n",
              "        (1): BatchNorm2d(512, eps=1e-05, momentum=0.1, affine=True, track_running_stats=True)\n",
              "      )\n",
              "    )\n",
              "    (1): BasicBlock(\n",
              "      (conv1): Conv2d(512, 512, kernel_size=(3, 3), stride=(1, 1), padding=(1, 1), bias=False)\n",
              "      (bn1): BatchNorm2d(512, eps=1e-05, momentum=0.1, affine=True, track_running_stats=True)\n",
              "      (relu): ReLU(inplace=True)\n",
              "      (conv2): Conv2d(512, 512, kernel_size=(3, 3), stride=(1, 1), padding=(1, 1), bias=False)\n",
              "      (bn2): BatchNorm2d(512, eps=1e-05, momentum=0.1, affine=True, track_running_stats=True)\n",
              "    )\n",
              "  )\n",
              "  (avgpool): AdaptiveAvgPool2d(output_size=(1, 1))\n",
              "  (fc): Linear(in_features=512, out_features=10, bias=True)\n",
              ")"
            ]
          },
          "metadata": {},
          "execution_count": 39
        }
      ]
    },
    {
      "cell_type": "markdown",
      "metadata": {
        "id": "under-admission"
      },
      "source": [
        "### 3.2 Pretrained ResNet18 Training (Task 11)"
      ],
      "id": "under-admission"
    },
    {
      "cell_type": "code",
      "source": [
        "epochs = 15\n",
        "lr = 0.00025\n",
        "optimizer = torch.optim.SGD(resnetcnn.parameters(), lr=lr, momentum = 0.9)\n",
        "#optimizer = torch.optim.Adam(resnetcnn.parameters(), lr=lr)\n",
        "loss_func = nn.CrossEntropyLoss()  # Cross Entropy Loss\n",
        "#loss_func = nn.NLLLoss()"
      ],
      "metadata": {
        "id": "NxiIYZpKG-Ed"
      },
      "id": "NxiIYZpKG-Ed",
      "execution_count": 40,
      "outputs": []
    },
    {
      "cell_type": "code",
      "metadata": {
        "id": "portuguese-cookbook",
        "colab": {
          "base_uri": "https://localhost:8080/",
          "height": 317,
          "referenced_widgets": [
            "4eac0c02fe7542048f69a1f8c07f3f25",
            "d425f41db5d84f30a8ad4a73d3dfd808",
            "4348004828094be79431368884f623bf",
            "7fcf5f9f31594aae90148a69e4272118",
            "600e810fd6a44f4dbc19d4c66eeb32c1",
            "5211bb7586d7416ba2c2a4681d9fde69",
            "2562b16ee4134aa3a56de88f67e5a36e",
            "e8425d8195304ef3a16ab5968cb65cfc",
            "aa7a25f6691848e3aaa444cdf596aff3",
            "263f56f7620c4d269d4d0ea793911faa",
            "cba66888ebf3426c8a4d95447fba174d"
          ]
        },
        "outputId": "a0b5e963-4794-482b-9aac-f13a39983c5e"
      },
      "source": [
        "# Execute the train function and train the model.\n",
        "train_losses, valid_losses, train_accs, valid_accs = train(resnetcnn, train_dl, val_dl, epochs, optimizer, loss_func)"
      ],
      "id": "portuguese-cookbook",
      "execution_count": 41,
      "outputs": [
        {
          "output_type": "display_data",
          "data": {
            "text/plain": [
              "  0%|          | 0/15 [00:00<?, ?it/s]"
            ],
            "application/vnd.jupyter.widget-view+json": {
              "version_major": 2,
              "version_minor": 0,
              "model_id": "4eac0c02fe7542048f69a1f8c07f3f25"
            }
          },
          "metadata": {}
        },
        {
          "output_type": "stream",
          "name": "stdout",
          "text": [
            "Epoch: 1 \tTraining Loss: 0.491577 \tTraining Acc: 0.877284 \tValidation Loss: 0.103402 \tValidation Acc: 0.972484\n",
            "Epoch: 2 \tTraining Loss: 0.091851 \tTraining Acc: 0.970535 \tValidation Loss: 0.076762 \tValidation Acc: 0.976051\n",
            "Epoch: 3 \tTraining Loss: 0.038284 \tTraining Acc: 0.988700 \tValidation Loss: 0.088019 \tValidation Acc: 0.971720\n",
            "Epoch: 4 \tTraining Loss: 0.016179 \tTraining Acc: 0.995564 \tValidation Loss: 0.074551 \tValidation Acc: 0.976306\n",
            "Epoch: 5 \tTraining Loss: 0.006141 \tTraining Acc: 0.998416 \tValidation Loss: 0.078048 \tValidation Acc: 0.975287\n",
            "Epoch: 6 \tTraining Loss: 0.001257 \tTraining Acc: 1.000000 \tValidation Loss: 0.059300 \tValidation Acc: 0.982675\n",
            "Epoch: 7 \tTraining Loss: 0.000360 \tTraining Acc: 1.000000 \tValidation Loss: 0.060555 \tValidation Acc: 0.982420\n",
            "Epoch: 8 \tTraining Loss: 0.000230 \tTraining Acc: 1.000000 \tValidation Loss: 0.061077 \tValidation Acc: 0.982420\n",
            "Epoch: 9 \tTraining Loss: 0.000174 \tTraining Acc: 1.000000 \tValidation Loss: 0.062665 \tValidation Acc: 0.982166\n",
            "Epoch: 10 \tTraining Loss: 0.000138 \tTraining Acc: 1.000000 \tValidation Loss: 0.064106 \tValidation Acc: 0.982675\n",
            "Epoch: 11 \tTraining Loss: 0.000116 \tTraining Acc: 1.000000 \tValidation Loss: 0.064610 \tValidation Acc: 0.982420\n",
            "Epoch: 12 \tTraining Loss: 0.000099 \tTraining Acc: 1.000000 \tValidation Loss: 0.065966 \tValidation Acc: 0.981146\n",
            "Epoch: 13 \tTraining Loss: 0.000087 \tTraining Acc: 1.000000 \tValidation Loss: 0.067384 \tValidation Acc: 0.982420\n",
            "Epoch: 14 \tTraining Loss: 0.000077 \tTraining Acc: 1.000000 \tValidation Loss: 0.068122 \tValidation Acc: 0.981656\n",
            "Epoch: 15 \tTraining Loss: 0.000069 \tTraining Acc: 1.000000 \tValidation Loss: 0.068771 \tValidation Acc: 0.981656\n"
          ]
        }
      ]
    },
    {
      "cell_type": "code",
      "source": [
        "fig, (ax1, ax2) = plt.subplots(1, 2, figsize=(12, 6))\n",
        "\n",
        "# Plot 1: Train/Valid Loss\n",
        "ax1.set_title('Loss')\n",
        "ax1.plot(list(train_losses), label='Train Loss')\n",
        "ax1.plot(list(valid_losses), label='Valid Loss')\n",
        "ax1.legend()\n",
        "\n",
        "# Plot 2: Train/Valid Accuracy\n",
        "ax2.set_title('Accuracy')\n",
        "ax2.plot(list(train_accs), label='Train Accuracy')\n",
        "ax2.plot(list(valid_accs), label='Valid Accuracy')\n",
        "ax2.legend()\n",
        "\n",
        "plt.tight_layout()\n",
        "plt.show()"
      ],
      "metadata": {
        "id": "ayKafXILHT7j",
        "colab": {
          "base_uri": "https://localhost:8080/",
          "height": 607
        },
        "outputId": "2ee7aa83-152b-40cf-96b3-66451f5f7c55"
      },
      "id": "ayKafXILHT7j",
      "execution_count": 42,
      "outputs": [
        {
          "output_type": "display_data",
          "data": {
            "text/plain": [
              "<Figure size 1200x600 with 2 Axes>"
            ],
            "image/png": "[encoded data removed]"
          },
          "metadata": {}
        }
      ]
    },
    {
      "cell_type": "markdown",
      "metadata": {
        "id": "charged-tsunami"
      },
      "source": [
        "## 4. Finetuning Pretrained ResNet18\n",
        "\n",
        "In the previous exercise (Chapter 4), we retrained the entire pretrained ResNet18 model using the Imagenette data set. Although the results were already pretty good, it might be better to only train the custom, final fully-connected layer. Remember, that every layer in a pretrained model is already optimized except for the custom final fully-connected layer which is randomly initialized. Thus, in this exercise we want to **only train the custom fully-connected layer** (only update the weights of the custom fully-connected layer) and keep the other layers (and weigts).\n",
        "\n",
        "Task 12: Download the ResNet18 architecture and weights from PyTorch, create a pretrained ResNet18 CNN, freeze all layers, and replace the last fully-connected layer\n",
        "* *Hint 1: In order to \"freeze\" a layer, you need to set its requires_grad Parameter to False\n",
        "* *Hint 2: First freeze all layers, than add the custom, final fully-connected layer\n",
        "\n",
        "Task 13: Use the *fit method* defined above to train only the last layer of the pretrained ResNet18 model\n",
        "* Note how the training is much faster (as we don't need to compute the gradients for each layer!)"
      ],
      "id": "charged-tsunami"
    },
    {
      "cell_type": "markdown",
      "metadata": {
        "id": "athletic-petersburg"
      },
      "source": [
        "### 4.1 Create Pretrained ResNet18 Model (Task 12)"
      ],
      "id": "athletic-petersburg"
    },
    {
      "cell_type": "code",
      "metadata": {
        "id": "cleared-victoria",
        "colab": {
          "base_uri": "https://localhost:8080/"
        },
        "outputId": "85c6f23b-1701-47fb-e2fc-dcc380badaad"
      },
      "source": [
        "resnetcnn12 = models.resnet18(pretrained=True) #download the pretrained model\n",
        "# Freeze  layers\n",
        "for param in resnetcnn12.parameters():\n",
        "    param.requires_grad = False\n",
        "\n",
        "# Replace the last fully-connected layer\n",
        "num_features = resnetcnn12.fc.in_features\n",
        "resnetcnn12.fc = nn.Linear(num_features, 10)  # Replace num_classes with the desired number of output classes\n",
        "\n",
        "# Optional: Initialize the new fully-connected layer\n",
        "nn.init.xavier_uniform_(resnetcnn12.fc.weight)\n",
        "nn.init.zeros_(resnetcnn12.fc.bias)\n",
        "\n",
        "resnetcnn12.to(device)\n"
      ],
      "id": "cleared-victoria",
      "execution_count": 43,
      "outputs": [
        {
          "output_type": "stream",
          "name": "stderr",
          "text": [
            "/usr/local/lib/python3.10/dist-packages/torchvision/models/_utils.py:208: UserWarning: The parameter 'pretrained' is deprecated since 0.13 and may be removed in the future, please use 'weights' instead.\n",
            "  warnings.warn(\n",
            "/usr/local/lib/python3.10/dist-packages/torchvision/models/_utils.py:223: UserWarning: Arguments other than a weight enum or `None` for 'weights' are deprecated since 0.13 and may be removed in the future. The current behavior is equivalent to passing `weights=ResNet18_Weights.IMAGENET1K_V1`. You can also use `weights=ResNet18_Weights.DEFAULT` to get the most up-to-date weights.\n",
            "  warnings.warn(msg)\n"
          ]
        },
        {
          "output_type": "execute_result",
          "data": {
            "text/plain": [
              "ResNet(\n",
              "  (conv1): Conv2d(3, 64, kernel_size=(7, 7), stride=(2, 2), padding=(3, 3), bias=False)\n",
              "  (bn1): BatchNorm2d(64, eps=1e-05, momentum=0.1, affine=True, track_running_stats=True)\n",
              "  (relu): ReLU(inplace=True)\n",
              "  (maxpool): MaxPool2d(kernel_size=3, stride=2, padding=1, dilation=1, ceil_mode=False)\n",
              "  (layer1): Sequential(\n",
              "    (0): BasicBlock(\n",
              "      (conv1): Conv2d(64, 64, kernel_size=(3, 3), stride=(1, 1), padding=(1, 1), bias=False)\n",
              "      (bn1): BatchNorm2d(64, eps=1e-05, momentum=0.1, affine=True, track_running_stats=True)\n",
              "      (relu): ReLU(inplace=True)\n",
              "      (conv2): Conv2d(64, 64, kernel_size=(3, 3), stride=(1, 1), padding=(1, 1), bias=False)\n",
              "      (bn2): BatchNorm2d(64, eps=1e-05, momentum=0.1, affine=True, track_running_stats=True)\n",
              "    )\n",
              "    (1): BasicBlock(\n",
              "      (conv1): Conv2d(64, 64, kernel_size=(3, 3), stride=(1, 1), padding=(1, 1), bias=False)\n",
              "      (bn1): BatchNorm2d(64, eps=1e-05, momentum=0.1, affine=True, track_running_stats=True)\n",
              "      (relu): ReLU(inplace=True)\n",
              "      (conv2): Conv2d(64, 64, kernel_size=(3, 3), stride=(1, 1), padding=(1, 1), bias=False)\n",
              "      (bn2): BatchNorm2d(64, eps=1e-05, momentum=0.1, affine=True, track_running_stats=True)\n",
              "    )\n",
              "  )\n",
              "  (layer2): Sequential(\n",
              "    (0): BasicBlock(\n",
              "      (conv1): Conv2d(64, 128, kernel_size=(3, 3), stride=(2, 2), padding=(1, 1), bias=False)\n",
              "      (bn1): BatchNorm2d(128, eps=1e-05, momentum=0.1, affine=True, track_running_stats=True)\n",
              "      (relu): ReLU(inplace=True)\n",
              "      (conv2): Conv2d(128, 128, kernel_size=(3, 3), stride=(1, 1), padding=(1, 1), bias=False)\n",
              "      (bn2): BatchNorm2d(128, eps=1e-05, momentum=0.1, affine=True, track_running_stats=True)\n",
              "      (downsample): Sequential(\n",
              "        (0): Conv2d(64, 128, kernel_size=(1, 1), stride=(2, 2), bias=False)\n",
              "        (1): BatchNorm2d(128, eps=1e-05, momentum=0.1, affine=True, track_running_stats=True)\n",
              "      )\n",
              "    )\n",
              "    (1): BasicBlock(\n",
              "      (conv1): Conv2d(128, 128, kernel_size=(3, 3), stride=(1, 1), padding=(1, 1), bias=False)\n",
              "      (bn1): BatchNorm2d(128, eps=1e-05, momentum=0.1, affine=True, track_running_stats=True)\n",
              "      (relu): ReLU(inplace=True)\n",
              "      (conv2): Conv2d(128, 128, kernel_size=(3, 3), stride=(1, 1), padding=(1, 1), bias=False)\n",
              "      (bn2): BatchNorm2d(128, eps=1e-05, momentum=0.1, affine=True, track_running_stats=True)\n",
              "    )\n",
              "  )\n",
              "  (layer3): Sequential(\n",
              "    (0): BasicBlock(\n",
              "      (conv1): Conv2d(128, 256, kernel_size=(3, 3), stride=(2, 2), padding=(1, 1), bias=False)\n",
              "      (bn1): BatchNorm2d(256, eps=1e-05, momentum=0.1, affine=True, track_running_stats=True)\n",
              "      (relu): ReLU(inplace=True)\n",
              "      (conv2): Conv2d(256, 256, kernel_size=(3, 3), stride=(1, 1), padding=(1, 1), bias=False)\n",
              "      (bn2): BatchNorm2d(256, eps=1e-05, momentum=0.1, affine=True, track_running_stats=True)\n",
              "      (downsample): Sequential(\n",
              "        (0): Conv2d(128, 256, kernel_size=(1, 1), stride=(2, 2), bias=False)\n",
              "        (1): BatchNorm2d(256, eps=1e-05, momentum=0.1, affine=True, track_running_stats=True)\n",
              "      )\n",
              "    )\n",
              "    (1): BasicBlock(\n",
              "      (conv1): Conv2d(256, 256, kernel_size=(3, 3), stride=(1, 1), padding=(1, 1), bias=False)\n",
              "      (bn1): BatchNorm2d(256, eps=1e-05, momentum=0.1, affine=True, track_running_stats=True)\n",
              "      (relu): ReLU(inplace=True)\n",
              "      (conv2): Conv2d(256, 256, kernel_size=(3, 3), stride=(1, 1), padding=(1, 1), bias=False)\n",
              "      (bn2): BatchNorm2d(256, eps=1e-05, momentum=0.1, affine=True, track_running_stats=True)\n",
              "    )\n",
              "  )\n",
              "  (layer4): Sequential(\n",
              "    (0): BasicBlock(\n",
              "      (conv1): Conv2d(256, 512, kernel_size=(3, 3), stride=(2, 2), padding=(1, 1), bias=False)\n",
              "      (bn1): BatchNorm2d(512, eps=1e-05, momentum=0.1, affine=True, track_running_stats=True)\n",
              "      (relu): ReLU(inplace=True)\n",
              "      (conv2): Conv2d(512, 512, kernel_size=(3, 3), stride=(1, 1), padding=(1, 1), bias=False)\n",
              "      (bn2): BatchNorm2d(512, eps=1e-05, momentum=0.1, affine=True, track_running_stats=True)\n",
              "      (downsample): Sequential(\n",
              "        (0): Conv2d(256, 512, kernel_size=(1, 1), stride=(2, 2), bias=False)\n",
              "        (1): BatchNorm2d(512, eps=1e-05, momentum=0.1, affine=True, track_running_stats=True)\n",
              "      )\n",
              "    )\n",
              "    (1): BasicBlock(\n",
              "      (conv1): Conv2d(512, 512, kernel_size=(3, 3), stride=(1, 1), padding=(1, 1), bias=False)\n",
              "      (bn1): BatchNorm2d(512, eps=1e-05, momentum=0.1, affine=True, track_running_stats=True)\n",
              "      (relu): ReLU(inplace=True)\n",
              "      (conv2): Conv2d(512, 512, kernel_size=(3, 3), stride=(1, 1), padding=(1, 1), bias=False)\n",
              "      (bn2): BatchNorm2d(512, eps=1e-05, momentum=0.1, affine=True, track_running_stats=True)\n",
              "    )\n",
              "  )\n",
              "  (avgpool): AdaptiveAvgPool2d(output_size=(1, 1))\n",
              "  (fc): Linear(in_features=512, out_features=10, bias=True)\n",
              ")"
            ]
          },
          "metadata": {},
          "execution_count": 43
        }
      ]
    },
    {
      "cell_type": "markdown",
      "metadata": {
        "id": "monthly-monster"
      },
      "source": [
        "### 4.2 Pretrained ResNet18 Fine Tuning (Task 13)"
      ],
      "id": "monthly-monster"
    },
    {
      "cell_type": "code",
      "source": [
        "epochs = 15\n",
        "lr = 0.0025\n",
        "optimizer = torch.optim.SGD(resnetcnn12.parameters(), lr=lr, momentum = 0.9)\n",
        "#optimizer = torch.optim.Adam(resnetcnn12.parameters(), lr=lr)\n",
        "loss_func = nn.CrossEntropyLoss()  # Cross Entropy Loss\n",
        "#loss_func = nn.NLLLoss()"
      ],
      "metadata": {
        "id": "4N8Rno05ZFPj"
      },
      "id": "4N8Rno05ZFPj",
      "execution_count": 44,
      "outputs": []
    },
    {
      "cell_type": "code",
      "metadata": {
        "id": "million-prague",
        "colab": {
          "base_uri": "https://localhost:8080/",
          "height": 317,
          "referenced_widgets": [
            "24a8ea58b41d4e0999096a026a67f1be",
            "8a4bad983ed542debd7fcdd7032bd24a",
            "89619ef0e78b43ab9e5ef7a22b7e7e76",
            "72898f6940a14da7a693f207570e7049",
            "db72180e21ee47588e72a9c37b3985f6",
            "29aa428d5306459fb6e2a8a8525a0e49",
            "c1a4651b2e42414b9d89063587bd268a",
            "3b9599f776e14a73b95921510617e645",
            "c910f0878c3846849c939abfaf06178c",
            "c13a20f1ca7e4b0b8229625d06b8b9a7",
            "b4011787ca4a43d1b8ea7707961ff90c"
          ]
        },
        "outputId": "e6caa926-b3fd-41fa-9ff0-27ebb5d198b8"
      },
      "source": [
        "# Execute the train function and train the model.\n",
        "train_losses, valid_losses, train_accs, valid_accs = train(resnetcnn12, train_dl, val_dl, epochs, optimizer, loss_func)"
      ],
      "id": "million-prague",
      "execution_count": 45,
      "outputs": [
        {
          "output_type": "display_data",
          "data": {
            "text/plain": [
              "  0%|          | 0/15 [00:00<?, ?it/s]"
            ],
            "application/vnd.jupyter.widget-view+json": {
              "version_major": 2,
              "version_minor": 0,
              "model_id": "24a8ea58b41d4e0999096a026a67f1be"
            }
          },
          "metadata": {}
        },
        {
          "output_type": "stream",
          "name": "stdout",
          "text": [
            "Epoch: 1 \tTraining Loss: 0.367767 \tTraining Acc: 0.885521 \tValidation Loss: 0.082865 \tValidation Acc: 0.972229\n",
            "Epoch: 2 \tTraining Loss: 0.066778 \tTraining Acc: 0.977717 \tValidation Loss: 0.074994 \tValidation Acc: 0.975541\n",
            "Epoch: 3 \tTraining Loss: 0.044557 \tTraining Acc: 0.985954 \tValidation Loss: 0.072954 \tValidation Acc: 0.976051\n",
            "Epoch: 4 \tTraining Loss: 0.033112 \tTraining Acc: 0.991551 \tValidation Loss: 0.068724 \tValidation Acc: 0.976561\n",
            "Epoch: 5 \tTraining Loss: 0.027177 \tTraining Acc: 0.993030 \tValidation Loss: 0.058723 \tValidation Acc: 0.980637\n",
            "Epoch: 6 \tTraining Loss: 0.022775 \tTraining Acc: 0.994086 \tValidation Loss: 0.055360 \tValidation Acc: 0.981911\n",
            "Epoch: 7 \tTraining Loss: 0.019314 \tTraining Acc: 0.995776 \tValidation Loss: 0.062225 \tValidation Acc: 0.979108\n",
            "Epoch: 8 \tTraining Loss: 0.016689 \tTraining Acc: 0.996409 \tValidation Loss: 0.062007 \tValidation Acc: 0.980892\n",
            "Epoch: 9 \tTraining Loss: 0.014707 \tTraining Acc: 0.998099 \tValidation Loss: 0.057310 \tValidation Acc: 0.981146\n",
            "Epoch: 10 \tTraining Loss: 0.012216 \tTraining Acc: 0.998627 \tValidation Loss: 0.057851 \tValidation Acc: 0.981656\n",
            "Epoch: 11 \tTraining Loss: 0.011422 \tTraining Acc: 0.999261 \tValidation Loss: 0.054911 \tValidation Acc: 0.982930\n",
            "Epoch: 12 \tTraining Loss: 0.010013 \tTraining Acc: 0.998944 \tValidation Loss: 0.056388 \tValidation Acc: 0.982675\n",
            "Epoch: 13 \tTraining Loss: 0.009175 \tTraining Acc: 0.999578 \tValidation Loss: 0.056349 \tValidation Acc: 0.981401\n",
            "Epoch: 14 \tTraining Loss: 0.008484 \tTraining Acc: 0.999578 \tValidation Loss: 0.057056 \tValidation Acc: 0.980892\n",
            "Epoch: 15 \tTraining Loss: 0.007850 \tTraining Acc: 0.999789 \tValidation Loss: 0.057062 \tValidation Acc: 0.980892\n"
          ]
        }
      ]
    },
    {
      "cell_type": "code",
      "source": [
        "fig, (ax1, ax2) = plt.subplots(1, 2, figsize=(12, 6))\n",
        "\n",
        "# Plot 1: Train/Valid Loss\n",
        "ax1.set_title('Loss')\n",
        "ax1.plot(list(train_losses), label='Train Loss')\n",
        "ax1.plot(list(valid_losses), label='Valid Loss')\n",
        "ax1.legend()\n",
        "\n",
        "# Plot 2: Train/Valid Accuracy\n",
        "ax2.set_title('Accuracy')\n",
        "ax2.plot(list(train_accs), label='Train Accuracy')\n",
        "ax2.plot(list(valid_accs), label='Valid Accuracy')\n",
        "ax2.legend()\n",
        "\n",
        "plt.tight_layout()\n",
        "plt.show()"
      ],
      "metadata": {
        "id": "P3bHjmTlIhZ2",
        "colab": {
          "base_uri": "https://localhost:8080/",
          "height": 607
        },
        "outputId": "be610276-4478-47d7-cd62-3820b484bf36"
      },
      "id": "P3bHjmTlIhZ2",
      "execution_count": 46,
      "outputs": [
        {
          "output_type": "display_data",
          "data": {
            "text/plain": [
              "<Figure size 1200x600 with 2 Axes>"
            ],
            "image/png": "[encoded data removed]"
          },
          "metadata": {}
        }
      ]
    }
  ]
}